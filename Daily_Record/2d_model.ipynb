{
  "cells": [
    {
      "cell_type": "markdown",
      "metadata": {
        "id": "view-in-github",
        "colab_type": "text"
      },
      "source": [
        "<a href=\"https://colab.research.google.com/github/crimama/MRI_classification/blob/main/Daily_Record/2d_model.ipynb\" target=\"_parent\"><img src=\"https://colab.research.google.com/assets/colab-badge.svg\" alt=\"Open In Colab\"/></a>"
      ]
    },
    {
      "cell_type": "markdown",
      "metadata": {
        "id": "I_iELta4J5NT"
      },
      "source": [
        "# 디렉토리 설정 "
      ]
    },
    {
      "cell_type": "code",
      "source": [
        "from google.colab import drive\n",
        "drive.mount('/content/drive')"
      ],
      "metadata": {
        "colab": {
          "base_uri": "https://localhost:8080/"
        },
        "id": "wl5O4lUJ6fya",
        "outputId": "cdfa5101-cdd3-4264-e6ef-cc3d213975fb"
      },
      "execution_count": 1,
      "outputs": [
        {
          "output_type": "stream",
          "name": "stdout",
          "text": [
            "Mounted at /content/drive\n"
          ]
        }
      ]
    },
    {
      "cell_type": "code",
      "source": [
        "!unzip /content/drive/MyDrive/DataSet/KYR_B_imaging.zip\n",
        "!cp '/content/drive/MyDrive/Colab Notebooks/프로젝트/ct분류/init.py' ./"
      ],
      "metadata": {
        "id": "zkeNmbTGSkaO"
      },
      "execution_count": 3,
      "outputs": []
    },
    {
      "cell_type": "code",
      "execution_count": 4,
      "metadata": {
        "id": "3T5U1_vVWqS8"
      },
      "outputs": [],
      "source": [
        "!cp -r '/content/KYR_B_imaging/20201224 DL_MRI_SNSB_임승욱/swr3' '/content/KYR_B_imaging' \n",
        "!cp -r '/content/KYR_B_imaging/20201224 DL_MRI_SNSB_임승욱/swr2 74' '/content/KYR_B_imaging' \n",
        "!cp -r '/content/KYR_B_imaging/20201224 DL_MRI_SNSB_임승욱/swr5' '/content/KYR_B_imaging' \n",
        "!cp -r '/content/KYR_B_imaging/20201224 DL_MRI_SNSB_임승욱/swr1' '/content/KYR_B_imaging' \n",
        "!cp -r '/content/KYR_B_imaging/20201224 DL_MRI_SNSB_임승욱/swr7' '/content/KYR_B_imaging' \n",
        "!cp -r '/content/KYR_B_imaging/20201224 DL_MRI_SNSB_임승욱/swr8' '/content/KYR_B_imaging' \n",
        "!cp -r '/content/KYR_B_imaging/20201224 DL_MRI_SNSB_임승욱/swr4' '/content/KYR_B_imaging' \n",
        "!cp -r '/content/KYR_B_imaging/20201224 DL_MRI_SNSB_임승욱/nswr1' '/content/KYR_B_imaging' \n",
        "!cp -r '/content/KYR_B_imaging/20201224 DL_MRI_SNSB_임승욱/swr6' '/content/KYR_B_imaging' \n",
        "!rm -r '/content/KYR_B_imaging/20201224 DL_MRI_SNSB_임승욱'"
      ]
    },
    {
      "cell_type": "markdown",
      "metadata": {
        "id": "zcZ1__VY3jdO"
      },
      "source": [
        "# 초기작업\n",
        "- 데이터 제너레이터에 넣을 수 있는 기본형태를 만드는 것 "
      ]
    },
    {
      "cell_type": "markdown",
      "metadata": {
        "id": "4vWmiBmR0ege"
      },
      "source": [
        "## 기본 DF 생성 \n",
        "- csv 데이터인 snsb_df \n",
        "- 이미지 디렉토리 관련인 dir_df만듬 \n",
        "\n",
        "전처리 과정에서 \n",
        "- snsb_df -> csvs \n",
        "- dir_df -> new_dir_df로 변환 함 \n"
      ]
    },
    {
      "cell_type": "code",
      "execution_count": null,
      "metadata": {
        "id": "rosYzDen1l6T"
      },
      "outputs": [],
      "source": [
        "import os \n",
        "import cv2 \n",
        "import pandas as pd \n",
        "from glob import glob\n",
        "from tqdm import tqdm\n",
        "from init import init #초기 설정용 커스텀 패키지 \n",
        "import numpy as np \n",
        "import matplotlib.pyplot as plt \n",
        "import matplotlib.pyplot as cm \n",
        "import warnings\n",
        "warnings.filterwarnings('ignore')\n",
        "from albumentations import (\n",
        "    Rotate,Compose, HorizontalFlip, CLAHE, HueSaturationValue,\n",
        "    RandomBrightness, RandomContrast, RandomGamma,\n",
        "    ToFloat, ShiftScaleRotate,JpegCompression\n",
        ")"
      ]
    },
    {
      "cell_type": "markdown",
      "metadata": {
        "id": "DdMMgGvZ3iDe"
      },
      "source": [
        "###snsb_df 생성 \n",
        "- 환자 정보 데이터 프레임 "
      ]
    },
    {
      "cell_type": "code",
      "execution_count": null,
      "metadata": {
        "id": "ZJy_JgMFUqUQ"
      },
      "outputs": [],
      "source": [
        "columns = ['성명',\n",
        " '병록번호',\n",
        " '만나이',\n",
        " '검사일',\n",
        " '교육년수',\n",
        " 'SVLT_recall_total_score_z',\n",
        " 'SVLT_Delayed_recall_z',\n",
        " 'SVLT_recognition_score_z',\n",
        " 'RCFT_immediate_recall_z',\n",
        " 'RCFT_delayed_recall_z',\n",
        " 'RCFT_recognition_score_z',\n",
        " 'K_MMSE_total_score_z',\n",
        " 'SNSB_II_Domain_Attention_z',\n",
        " 'SNSB_II_Domain_Language_z',\n",
        " 'SNSB_II_Domain_Visuospatial_z',\n",
        " 'SNSB_II_Domain_Memory_z',\n",
        " 'SNSB_II_Domain_Frontal_z']\n",
        "\n",
        "snsb_df = pd.read_csv('/content/drive/MyDrive/DataSet/202202_김예림/SNSB_integerated.csv')\n",
        "snsb_df = snsb_df.drop([2098,2591]) #병록번호 없는 행 제거 <- 결측치 \n",
        "snsb_df['병록번호'] = snsb_df['병록번호'].apply(lambda x : str(int(x))) #소수점으로 되어 있는 것 처리하고 str형 변형 \n",
        "\n",
        "snsb_df = snsb_df[columns]"
      ]
    },
    {
      "cell_type": "markdown",
      "metadata": {
        "id": "V7h0NIEotoIc"
      },
      "source": [
        "###dir_df 생성 \n",
        "- 환자  별 mri 디렉토리 데이터 프레임 \n",
        "- 이미지 장수 정리 안된 데이터 프레임 "
      ]
    },
    {
      "cell_type": "code",
      "execution_count": null,
      "metadata": {
        "id": "kerrOcyYidyv"
      },
      "outputs": [],
      "source": [
        "#폴더 디렉토리\n",
        "folder_dir = glob('/content/KYR_B_imaging/*')\n",
        "dir_df = init.dir_df(folder_dir)\n",
        "dir_df = dir_df.sort_values(by=['key','dir'])\n",
        "dir_df = dir_df.reset_index().drop(columns = 'index')"
      ]
    },
    {
      "cell_type": "markdown",
      "metadata": {
        "id": "D2-wVYErkt2_"
      },
      "source": [
        "### 병록번호- key 값 보정\n",
        "- 병록번호 == key 하게 만들어야 함 -> primary key \n",
        "- 중복 제거, @@@-1 형태 제거, 9자리로 통일 "
      ]
    },
    {
      "cell_type": "code",
      "execution_count": null,
      "metadata": {
        "id": "IlQnCKnF06He"
      },
      "outputs": [],
      "source": [
        "target_length = [4,5,6,7,8] #<- 수정해야 하는 병록번호 갯수들 \n",
        "\n",
        "dir_df,snsb_df = init.key_mismatch(dir_df,snsb_df,target_length)\n",
        "#인덱스 초기화 \n",
        "dir_df = dir_df.reset_index().drop(columns = 'index')\n",
        "# plt.hist(snsb_df['병록번호'].map(len))\n",
        "# plt.show()\n",
        "\n",
        "#에러값들 제외 \n",
        "errors = ['000758836-1' '030338456-1' '040145556-1' '050236926-1' '090374796-1'\n",
        " '100402746-1' '120010356-1' '870133669-1' '920033543-1' '930236559-1'\n",
        " '930257597-1' '970682600-1']\n",
        "\n",
        "dir_df = dir_df.drop(np.where(dir_df['key'].map(len)>9)[0])"
      ]
    },
    {
      "cell_type": "markdown",
      "metadata": {
        "id": "8s0QWgYB5fLR"
      },
      "source": [
        "## new_dir_df 생성 - 이미지 장수 통일 \n",
        "- 위에서 만든 dir_df에서 각 key 별로 이미지 19장으로 맞춤 \n",
        "- 19장으로 맞추는 이유는 가장 비율이 높아서 \n"
      ]
    },
    {
      "cell_type": "markdown",
      "metadata": {
        "id": "b0iCEN_oc40h"
      },
      "source": [
        "### key 값 별 이미지 장수 연산 "
      ]
    },
    {
      "cell_type": "code",
      "execution_count": null,
      "metadata": {
        "colab": {
          "base_uri": "https://localhost:8080/"
        },
        "id": "tJ0qOVhtjdjK",
        "outputId": "a824b207-0a3d-4e20-e6d3-c86f8ab23761"
      },
      "outputs": [
        {
          "output_type": "execute_result",
          "data": {
            "text/plain": [
              "1606"
            ]
          },
          "metadata": {},
          "execution_count": 8
        }
      ],
      "source": [
        "#이미지 장수 연산 \n",
        "keys = list(set(dir_df['key'])) \n",
        "images_length = pd.DataFrame(keys)[0].apply(lambda x: init.check_images(dir_df,x)) #키 값별로 이미지의 장수들 계산 \n",
        "# images_length.value_counts()\n",
        "\n",
        "length_df = pd.DataFrame([keys,images_length]).T\n",
        "length_df.columns = ['key','image_length']\n",
        "length_df['image_length']  = length_df['image_length'].map(int)\n",
        "\n",
        "#Standard를 기준으로 less over 분할 \n",
        "standard = 19 # 통일 시킬 이미지 장 수 기준 \n",
        "\n",
        "# 조정이 필요한 장 수 초과하는 것들만 추림 \n",
        "length_df_over = length_df[length_df['image_length']>standard]\n",
        "\n",
        "#19장 보다 적은 경우 \n",
        "# length_df_less = length_df[length_df['image_length']<standard]\n",
        "\n",
        "len(length_df_over)"
      ]
    },
    {
      "cell_type": "markdown",
      "metadata": {
        "id": "KiMO161I-boA"
      },
      "source": [
        "### key값 별로 이미지 19장 있는 new_dir_df 생성 "
      ]
    },
    {
      "cell_type": "code",
      "execution_count": null,
      "metadata": {
        "colab": {
          "base_uri": "https://localhost:8080/"
        },
        "id": "W0T5XeyUeyOm",
        "outputId": "e1830388-59cd-4c02-d628-bb31ec7414b5"
      },
      "outputs": [
        {
          "output_type": "stream",
          "name": "stderr",
          "text": [
            "100%|██████████| 1606/1606 [00:07<00:00, 221.05it/s]\n"
          ]
        }
      ],
      "source": [
        "new_dir_df = pd.DataFrame(np.zeros(len(length_df_over)*19*2).reshape(-1,2))\n",
        "new_dir_df.columns = dir_df.columns\n",
        "\n",
        "for index in tqdm(range(len(length_df_over))):\n",
        "  new_dir_df.iloc[index*19:(index+1)*19,:]  = dir_df.loc[init.droped_indexes(dir_df,length_df_over,index,standard=19)]\n",
        "new_dir_df = new_dir_df.sort_values(by=['key','dir'])\n",
        "new_dir_df = new_dir_df.reset_index().drop(columns = 'index')"
      ]
    },
    {
      "cell_type": "markdown",
      "metadata": {
        "id": "fggGNd-N0YfV"
      },
      "source": [
        "## csvs 생성 \n",
        " - 중복 제거 \n",
        " - z score -1.0를 기준으로 0(정상) 1(비정상)으로 분류 \n",
        "\n"
      ]
    },
    {
      "cell_type": "code",
      "execution_count": null,
      "metadata": {
        "colab": {
          "base_uri": "https://localhost:8080/"
        },
        "id": "aqe-IPZm0hvy",
        "outputId": "2e01e105-67cf-4527-cff8-ec5188a4aa7b"
      },
      "outputs": [
        {
          "output_type": "stream",
          "name": "stdout",
          "text": [
            "1606 1606\n"
          ]
        }
      ],
      "source": [
        "#19장의 사진으로 추린 new_dir_df로 새로운 키 리스트만듬) \n",
        "\n",
        "key_lists = np.unique(new_dir_df['key'])\n",
        "key_lists.sort()\n",
        "\n",
        "Embedding_columns = snsb_df.columns[5:]\n",
        "\n",
        "for column in Embedding_columns:\n",
        "  snsb_df[f'E_{column}'] = snsb_df[column].map(init.zscore_Embedding)\n",
        "\n",
        "#정렬 \n",
        "snsb_df = snsb_df.sort_values(by=['병록번호'])\n",
        "new_dir_df = new_dir_df.sort_values(by=['key','dir'])\n",
        "\n",
        "#snsb_df 중 key_lists에 있는 행들만 추림 -> csvs \n",
        "csvs = snsb_df[snsb_df['병록번호'].apply(lambda x : x in key_lists)].sort_values(by=['병록번호'])\n",
        "csvs = csvs.reset_index().drop(columns = 'index')\n",
        "\n",
        "#중복 제거 : 이름으로 정렬 후 중복 제거 \n",
        "csvs = csvs.sort_values(by=['성명'])\n",
        "csvs = csvs.drop_duplicates(['병록번호'], keep = 'first')\n",
        "\n",
        "#다시 병록번호 로 정렬 해서 csvs 와 new_dir_df 순을 맞춤 \n",
        "csvs = csvs.sort_values(['병록번호'])\n",
        "csvs = csvs.reset_index().drop(columns = 'index')\n",
        "new_dir_df = new_dir_df.sort_values(by=['key','dir'])\n",
        "new_dir_df = new_dir_df.reset_index().drop(columns = 'index')\n",
        "\n",
        "#맞춤 확인 \n",
        "print(len(csvs),len(np.unique(new_dir_df['key'])))"
      ]
    },
    {
      "cell_type": "markdown",
      "metadata": {
        "id": "W7ML5r7Z4i0U"
      },
      "source": [
        "# 전처리"
      ]
    },
    {
      "cell_type": "markdown",
      "metadata": {
        "id": "FpQ6WGP4LF-I"
      },
      "source": [
        "## Augmentation "
      ]
    },
    {
      "cell_type": "code",
      "execution_count": null,
      "metadata": {
        "id": "pbX4pUJcLJDY"
      },
      "outputs": [],
      "source": [
        "#이미지 콘트라스트 변경 \n",
        "def img_Contrast(img): \n",
        "  import cv2 \n",
        "  lab = cv2.cvtColor(img, cv2.COLOR_GRAY2BGR)\n",
        "  lab = cv2.cvtColor(lab, cv2.COLOR_BGR2LAB)\n",
        "  l, a, b = cv2.split(lab)\n",
        "  clahe = cv2.createCLAHE(clipLimit=3.0, tileGridSize=(8, 8)) \n",
        "  cl = clahe.apply(l)\n",
        "  limg = cv2.merge((cl, a, b))\n",
        "  final = cv2.cvtColor(limg, cv2.COLOR_LAB2BGR)\n",
        "  return final \n",
        "\n",
        "#가우시안 블러 \n",
        "def gaussianblur(image):\n",
        "  import cv2 \n",
        "  import numpy as np \n",
        "  blur = cv2.GaussianBlur(image, (5,5), np.random.randint(0,3,1))\n",
        "  return blur\n",
        "\n",
        "\n",
        "import albumentations as A\n",
        "transform = A.Compose([\n",
        "    RandomBrightness(limit=0.1),\n",
        "    JpegCompression(quality_lower=85, \n",
        "                    quality_upper=100, p=0.5), \n",
        "    HueSaturationValue(hue_shift_limit=20,\n",
        "                        sat_shift_limit=30, \n",
        "                    val_shift_limit=20, p=0.5),\n",
        "    RandomContrast(limit=0.2, p=0.5),\n",
        "    A.HorizontalFlip(p=0.5),\n",
        "    A.RandomBrightnessContrast(p=0.2),\n",
        "])\n",
        "\n",
        "\n",
        "#랜덤 어그먼테이션 \n",
        "def random_aug(aug_image):\n",
        "  import numpy as np \n",
        "  import cv2 \n",
        "  n = np.random.randint(0,3,1)\n",
        "  if n == 0:\n",
        "    aug_image = cv2.flip(aug_image,np.random.randint(0,2,1))\n",
        "  if n == 1:\n",
        "    aug_image = gaussianblur(aug_image)\n",
        "  if n== 2:\n",
        "    pass\n",
        "  return aug_image\n"
      ]
    },
    {
      "cell_type": "markdown",
      "metadata": {
        "id": "ZaVmNxsN-JvR"
      },
      "source": [
        "## 이미지 전처리"
      ]
    },
    {
      "cell_type": "code",
      "execution_count": null,
      "metadata": {
        "id": "d-z0VSeyBA6b"
      },
      "outputs": [],
      "source": [
        "def plot_img(temp_img):\n",
        "  plt.figure(figsize=(10,10))\n",
        "  plt.imshow(temp_img)\n",
        "  plt.show()"
      ]
    },
    {
      "cell_type": "code",
      "execution_count": null,
      "metadata": {
        "id": "thvDsi6n-GgV"
      },
      "outputs": [],
      "source": [
        "#이미지 전처리 \n",
        "\n",
        "def img_preprocess(img):\n",
        "  shape = img.shape[0]\n",
        "  preprocessed_img = img[int(shape*0.05):int(shape*0.95),int(shape*0.1):int(shape*0.9),:] #crop \n",
        "  preprocessed_img = transform(image=preprocessed_img)['image']\n",
        "  preprocessed_img = cv2.cvtColor(preprocessed_img,cv2.COLOR_BGR2GRAY)\n",
        "  preprocessed_img = cv2.resize(preprocessed_img,dsize=(224,224)) #resize Albu mentations -> vision 관련 augmentation document \n",
        "  preprocessed_img = preprocessed_img/255.\n",
        "  return preprocessed_img \n",
        "\n",
        "\n",
        "#더미 넘파이 만든 후 거기다 224,224 grayscale 이미지 넣음\n",
        "#디렉토리 df로 이미지 만듬 \n",
        "# def read_imgs(indexed_df):   2D 17,224,224,3 용 \n",
        "#     temp_img_1 = img_preprocess(cv2.imread(indexed_df['dir']))\n",
        "#     temp_img_2 = img_preprocess(cv2.imread(indexed_df['dir_1']))\n",
        "#     temp_img_3 = img_preprocess(cv2.imread(indexed_df['dir_2']))\n",
        "#     temp_imgs = np.stack([temp_img_1,temp_img_2,temp_img_3],axis=2)\n",
        "#     temp_imgs = random_aug(temp_imgs) #어그먼테이션 \n",
        "#     return temp_imgs\n",
        "\n",
        "def key_to_dir(key,new_dir_df):\n",
        "  dir_of_key = new_dir_df[new_dir_df['key']==key]\n",
        "  return dir_of_key\n",
        "\n",
        "\n",
        "\n",
        "def read_imgs(img_dir_df): #224, 224, 19 용 \n",
        "  temp_imgs = np.zeros(224*224*19).reshape(224,224,19)\n",
        "  for i in range(len(img_dir_df)):\n",
        "    temp_img = img_dir_df['dir'].iloc[i]\n",
        "    temp_img = img_preprocess(cv2.imread(temp_img))\n",
        "    temp_imgs[:,:,i] = temp_img \n",
        "  return temp_imgs\n",
        "\n"
      ]
    },
    {
      "cell_type": "markdown",
      "metadata": {
        "id": "x4DZ7OS8nkyd"
      },
      "source": [
        "# 데이터 제너레이터"
      ]
    },
    {
      "cell_type": "markdown",
      "metadata": {
        "id": "2fOR-6Hj5Cqd"
      },
      "source": [
        "## 사전설정"
      ]
    },
    {
      "cell_type": "code",
      "execution_count": null,
      "metadata": {
        "id": "WfdUHzsn8qQp"
      },
      "outputs": [],
      "source": [
        "input_columns = ['만나이','교육년수']\n",
        "output_columns = ['E_SVLT_recall_total_score_z', 'E_SVLT_Delayed_recall_z',\n",
        "       'E_SVLT_recognition_score_z', 'E_RCFT_immediate_recall_z',\n",
        "       'E_RCFT_delayed_recall_z', 'E_RCFT_recognition_score_z',\n",
        "       'E_K_MMSE_total_score_z', 'E_SNSB_II_Domain_Attention_z',\n",
        "       'E_SNSB_II_Domain_Language_z', 'E_SNSB_II_Domain_Visuospatial_z',\n",
        "       'E_SNSB_II_Domain_Memory_z', 'E_SNSB_II_Domain_Frontal_z']\n",
        "output_column = output_columns[0]\n",
        "\n",
        "csvs_max = np.array([90,18])\n",
        "csvs_min = np.array([45,0])"
      ]
    },
    {
      "cell_type": "markdown",
      "source": [
        "## 제너레이터"
      ],
      "metadata": {
        "id": "FSR1kXEMkG7m"
      }
    },
    {
      "cell_type": "markdown",
      "source": [
        "키 리스트를 이용해 train, valid, test 분리 "
      ],
      "metadata": {
        "id": "bLmJgFD4odNg"
      }
    },
    {
      "cell_type": "code",
      "execution_count": null,
      "metadata": {
        "id": "H2W_q0UKNRwm"
      },
      "outputs": [],
      "source": [
        "from tensorflow.keras.preprocessing import image\n",
        "from tensorflow.keras.utils import Sequence\n",
        "import math\n",
        "\n",
        "\n",
        "class DataGenerator(Sequence):\n",
        "  def __init__(self,\n",
        "                 new_dir_df,\n",
        "                 csvs,\n",
        "                 key_lists,\n",
        "                 output_columns,\n",
        "                 batch_size: int,\n",
        "                 augmentation: bool = False,\n",
        "                 shuffle: bool = False,\n",
        "                 rescale:bool = True) -> None:\n",
        "        self.input_columns = input_columns \n",
        "        self.key_lists = key_lists\n",
        "        self.output_columns = output_columns\n",
        "        self.batch_size = batch_size\n",
        "        self.shuffle = shuffle\n",
        "        self.augmentation = augmentation\n",
        "        self.rescale =rescale\n",
        "        self.new_dir_df = new_dir_df\n",
        "        self.csvs = csvs\n",
        "\n",
        "  def __len__(self):\n",
        "    return math.ceil(len(self.key_lists) / self.batch_size)\n",
        "    \n",
        "  def on_epoch_end(self):\n",
        "    self.indices = np.arange(len(self.key_lists))\n",
        "    if self.shuffle == True:\n",
        "      np.random.shuffle(self.indices)\n",
        "      self.key_lists = self.key_lists[self.indices]\n",
        "      \n",
        "\n",
        "\n",
        "\n",
        "  def __getitem__(self, index):\n",
        "    self.batch_keys = self.key_lists[index*self.batch_size:(index+1)*self.batch_size]\n",
        "    self.batch_keys.sort()\n",
        "\n",
        "    #imgs \n",
        "    temp_imgs = []\n",
        "    for key in range(len(self.batch_keys)):\n",
        "      img_dir_df = key_to_dir(self.batch_keys[key],self.new_dir_df)\n",
        "      temp_img = read_imgs(img_dir_df)\n",
        "      temp_imgs.append(temp_img)\n",
        "    input_imgs = np.array(temp_imgs).astype(np.float)\n",
        "\n",
        "    #input_csvs\n",
        "    temp_csvs = self.csvs[self.csvs['병록번호'].apply(lambda x: x in self.batch_keys)]\n",
        "    temp_csvs = temp_csvs.sort_values(by=['병록번호'])\n",
        "    temp_csvs = temp_csvs.reset_index().drop(columns='index')\n",
        "    input_csvs = temp_csvs[input_columns]\n",
        "    input_csvs = np.array(input_csvs)\n",
        "\n",
        "    #output_csvs\n",
        "    temp_csvs = self.csvs[self.csvs['병록번호'].apply(lambda x: x in self.batch_keys)]\n",
        "    temp_csvs = temp_csvs.sort_values(by=['병록번호'])\n",
        "    temp_csvs = temp_csvs.reset_index().drop(columns='index')\n",
        "    output_csvs = temp_csvs[self.output_columns]\n",
        "    output_csvs = np.array(output_csvs)\n",
        "\n",
        "    return [input_imgs,input_csvs],output_csvs\n",
        "    # return input_imgs,output_csvs\n",
        "\n",
        "    \n",
        "# train = 1120\n",
        "# valid = 1360\n",
        "train = 160\n",
        "valid = 200\n",
        "train_generator = DataGenerator(new_dir_df,\n",
        "                                csvs,\n",
        "                                key_lists[:train],\n",
        "                                output_columns[0],\n",
        "                                batch_size=16,\n",
        "                                shuffle=True)\n",
        "valid_generator = DataGenerator(new_dir_df,\n",
        "                                csvs,\n",
        "                                key_lists[train:valid],\n",
        "                                output_columns[0],\n",
        "                                batch_size=16,\n",
        "                                shuffle=False)\n",
        "test_generator = DataGenerator(new_dir_df,\n",
        "                               csvs,\n",
        "                               key_lists[valid:240],\n",
        "                               output_columns[0],\n",
        "                               batch_size=16,\n",
        "                               shuffle=False)"
      ]
    },
    {
      "cell_type": "code",
      "source": [
        "train_generator.on_epoch_end\n",
        "a,b = next(iter(train_generator))\n",
        "b.shape"
      ],
      "metadata": {
        "colab": {
          "base_uri": "https://localhost:8080/"
        },
        "id": "uwvS92clwx4E",
        "outputId": "ff04b28c-2d2b-43d4-c74a-77021b6676a8"
      },
      "execution_count": null,
      "outputs": [
        {
          "output_type": "execute_result",
          "data": {
            "text/plain": [
              "(32,)"
            ]
          },
          "metadata": {},
          "execution_count": 22
        }
      ]
    },
    {
      "cell_type": "markdown",
      "metadata": {
        "id": "5zG5rfQ9OaJn"
      },
      "source": [
        "#모델"
      ]
    },
    {
      "cell_type": "code",
      "execution_count": null,
      "metadata": {
        "id": "Zw4xryIZObDe"
      },
      "outputs": [],
      "source": [
        "from tensorflow.keras import optimizers\n",
        "import tensorflow as tf\n",
        "from tensorflow.keras.optimizers import Adam\n",
        "from tensorflow.keras import layers\n",
        "from tensorflow.keras.layers import Bidirectional, LSTM, GRU, Activation, AveragePooling2D\n",
        "from tensorflow.keras.layers import BatchNormalization,Conv2D,MaxPooling2D,Activation,Dropout,Dense,Flatten,Input,Conv3D,MaxPooling3D\n",
        "from tensorflow.keras.layers import Conv3D, ConvLSTM2D, BatchNormalization, Input, Dropout, Bidirectional, Conv1D, MaxPooling1D,Reshape\n",
        "from tensorflow.keras import Model\n",
        "from tensorflow.keras.layers import concatenate\n",
        "from tensorflow.keras.applications import resnet50, efficientnet,VGG19\n",
        "from tensorflow.keras.applications import ResNet50, EfficientNetB0, DenseNet169, MobileNet,EfficientNetB4, ResNet152V2, EfficientNetV2B0\n",
        "import math\n",
        "from tensorflow.keras import backend as K\n",
        "from tensorflow.keras.utils import plot_model\n",
        "from keras.layers.pooling import GlobalAveragePooling2D,GlobalAveragePooling3D,AveragePooling3D\n"
      ]
    },
    {
      "cell_type": "markdown",
      "source": [
        "## 모델 사전 정의"
      ],
      "metadata": {
        "id": "ulO-mbhWkLpb"
      }
    },
    {
      "cell_type": "code",
      "source": [
        "res50 = ResNet50(weights='imagenet', include_top=False, input_shape=(224, 224,3)) #size -> 256, 256 \n",
        "res50.trainable = False\n",
        "\n",
        "vgg19 = DenseNet169(weights='imagenet', include_top=False, input_shape=(224, 224,3)) #size -> 256, 256 \n",
        "vgg19.trainable = False\n",
        "\n",
        "effv2 = EfficientNetB4(weights='imagenet', include_top=False, input_shape=(224, 224,3)) #size -> 256, 256 \n",
        "effv2.trainable = False"
      ],
      "metadata": {
        "id": "4ZSgm-0Jn1-8",
        "colab": {
          "base_uri": "https://localhost:8080/"
        },
        "outputId": "54be6801-fb42-4ddb-ea73-37dd0e366800"
      },
      "execution_count": null,
      "outputs": [
        {
          "output_type": "stream",
          "name": "stdout",
          "text": [
            "Downloading data from https://storage.googleapis.com/tensorflow/keras-applications/resnet/resnet50_weights_tf_dim_ordering_tf_kernels_notop.h5\n",
            "94773248/94765736 [==============================] - 0s 0us/step\n",
            "94781440/94765736 [==============================] - 0s 0us/step\n"
          ]
        }
      ]
    },
    {
      "cell_type": "code",
      "source": [
        "def input_to_pre(image_input): #224,224,19\n",
        "  x = Conv2D(16, (2,2), padding ='same',activation = 'relu')(image_input)\n",
        "  x = BatchNormalization()(x)\n",
        "  x = Dropout(0.2)(x)\n",
        "  # x = Conv2D(8, (2,2), padding ='same',activation = 'relu')(x)\n",
        "  # x = BatchNormalization()(x)\n",
        "  # x = Dropout(0.2)(x)\n",
        "  out = Conv2D(3, (2,2), padding ='same',activation = 'relu')(x)\n",
        "  return out \n",
        "\n",
        "def image_encoder_layer(filters,img_input):\n",
        "  img = Conv2D(filters,(3,3),padding='same')(img_input)\n",
        "  img = Dropout(0.2)(img)\n",
        "  img_output = BatchNormalization()(img)\n",
        "  return img_output\n",
        "\n",
        "\n",
        "def image_encoder(image_combined):\n",
        "  # img = image_encoder_layer(1024,image_combined)\n",
        "  # img = image_encoder_layer(512,image_combined)\n",
        "  # img = image_encoder_layer(256,image_combined)\n",
        "  img_out = image_encoder_layer(128,image_combined)\n",
        "  return img_out\n",
        "\n",
        "def csvs_layers(filters,csv_input):\n",
        "  csv = Dense(filters, activation = 'relu')(csv_input)\n",
        "  csv = Dropout(0.2)(csv)\n",
        "  csv_layer_out = BatchNormalization()(csv)\n",
        "  return csv_layer_out\n",
        "\n",
        "def csvs_decoder(csvs_input):\n",
        "  # csvs = csvs_layers(32,csvs_input)\n",
        "  # csvs = csvs_layers(64,csvs)\n",
        "  csvs_out = csvs_layers(128,csvs_input)\n",
        "  return csvs_out\n",
        "  \n"
      ],
      "metadata": {
        "id": "lF7MK9EWm-qy"
      },
      "execution_count": null,
      "outputs": []
    },
    {
      "cell_type": "markdown",
      "source": [
        "## 콜백"
      ],
      "metadata": {
        "id": "DMTH6bms-jsN"
      }
    },
    {
      "cell_type": "code",
      "source": [
        "# copy from https://gist.github.com/stared/dfb4dfaf6d9a8501cd1cc8b8cb806d2e\n",
        "# loss 실시간 출력 \n",
        "from IPython.display import clear_output\n",
        "from tensorflow.keras.callbacks import Callback\n",
        "\n",
        "class PlotLosses(Callback):\n",
        "\n",
        "  def on_train_begin(self, logs={}):\n",
        "    self.epochs = []\n",
        "    self.losses = []\n",
        "    self.val_losses = []\n",
        "    self.logs = []\n",
        "    self.fig = plt.figure()\n",
        "\n",
        "\n",
        "  def on_epoch_end(self, epoch, logs={}):\n",
        "\n",
        "    self.epochs.append(epoch)\n",
        "    self.losses.append(logs.get('loss'))\n",
        "    self.val_losses.append(logs.get('val_loss'))\n",
        "\n",
        "    clear_output(wait=True)\n",
        "    plt.plot(self.epochs, self.losses, label=\"loss\")\n",
        "    plt.plot(self.epochs, self.val_losses, label=\"val_loss\")\n",
        "    plt.legend()\n",
        "    plt.show();\n",
        "    print(\"loss = \", self.losses[-1], \", val_loss = \", self.val_losses[-1])\n",
        "\n",
        "#call backs 선언\n",
        "plot_losses = PlotLosses()\n",
        "\n",
        "from tensorflow.keras.callbacks import ModelCheckpoint #<- model 저장 객체, best_model.h5라는 모델 이 저장 됨 \n",
        "model_check_point = ModelCheckpoint(\n",
        "    'best_model.h5', \n",
        "    monitor='val_loss', \n",
        "    verbose=1, \n",
        "    save_best_only=True)\n",
        "\n",
        "\n",
        "from tensorflow.keras.callbacks import EarlyStopping\n",
        "early_stopping = EarlyStopping(\n",
        "    monitor='val_loss',  # 모니터링 대상, 이걸 기준으로 멈춤 \n",
        "    verbose=1,\n",
        "    patience=50)         # 중지까지의 여유분\n",
        "\n",
        "from tensorflow.keras.callbacks import ReduceLROnPlateau\n",
        "reduce_lr = ReduceLROnPlateau(\n",
        "    monitor='val_loss', # 모니터링 대상\n",
        "    patience=10,        # 대상ㅃ 기간동안 유지\n",
        "    factor=0.2,         # 줄이는 양                              \n",
        "    min_learning_rate=0.00001)     # 최소 학습율\n",
        "\n",
        "callbacks = [ plot_losses,reduce_lr]"
      ],
      "metadata": {
        "id": "dzJyi-d6-kgP"
      },
      "execution_count": null,
      "outputs": []
    },
    {
      "cell_type": "markdown",
      "source": [
        "## 모델 "
      ],
      "metadata": {
        "id": "bvxbuana-opU"
      }
    },
    {
      "cell_type": "code",
      "source": [
        "#image input \n",
        "image_input = Input((224,224,19))\n",
        "image = input_to_pre(image_input)\n",
        "\n",
        "# conv \n",
        "res = res50(image)\n",
        "res = image_encoder(res)\n",
        "\n",
        "# vgg = vgg19(image)\n",
        "# vgg = image_encoder(vgg)\n",
        "\n",
        "# eff = effv2(image)\n",
        "# eff = image_encoder(eff)\n",
        "\n",
        "# image combined \n",
        "# image_combined = concatenate([res,vgg,eff])\n",
        "# image_combined = Conv2D(128, (2,2), padding = 'same')(image_combined)\n",
        "image_out = GlobalAveragePooling2D()(res)\n",
        "\n",
        "\n",
        "#csv \n",
        "csvs_input = Input((2))\n",
        "csvs_out = csvs_decoder(csvs_input)\n",
        "\n",
        "\n",
        "#image csv combined \n",
        "combined = concatenate([image_out,csvs_out])\n",
        "\n",
        "#out \n",
        "out = Dense(2,activation='softmax')(combined)\n",
        "\n",
        "model = Model([image_input,csvs_input],out)\n"
      ],
      "metadata": {
        "id": "iM0FWiKeqT8N"
      },
      "execution_count": null,
      "outputs": []
    },
    {
      "cell_type": "code",
      "source": [
        "model.summary()"
      ],
      "metadata": {
        "id": "iyOmY6tr_2kn",
        "colab": {
          "base_uri": "https://localhost:8080/"
        },
        "outputId": "4c4a34dd-b410-46a6-8a49-4020ed69c349"
      },
      "execution_count": null,
      "outputs": [
        {
          "output_type": "stream",
          "name": "stdout",
          "text": [
            "Model: \"model\"\n",
            "__________________________________________________________________________________________________\n",
            " Layer (type)                   Output Shape         Param #     Connected to                     \n",
            "==================================================================================================\n",
            " input_3 (InputLayer)           [(None, 224, 224, 1  0           []                               \n",
            "                                9)]                                                               \n",
            "                                                                                                  \n",
            " conv2d_3 (Conv2D)              (None, 224, 224, 16  1232        ['input_3[0][0]']                \n",
            "                                )                                                                 \n",
            "                                                                                                  \n",
            " batch_normalization_2 (BatchNo  (None, 224, 224, 16  64         ['conv2d_3[0][0]']               \n",
            " rmalization)                   )                                                                 \n",
            "                                                                                                  \n",
            " dropout_2 (Dropout)            (None, 224, 224, 16  0           ['batch_normalization_2[0][0]']  \n",
            "                                )                                                                 \n",
            "                                                                                                  \n",
            " conv2d_4 (Conv2D)              (None, 224, 224, 3)  195         ['dropout_2[0][0]']              \n",
            "                                                                                                  \n",
            " resnet50 (Functional)          (None, 7, 7, 2048)   23587712    ['conv2d_4[0][0]']               \n",
            "                                                                                                  \n",
            " conv2d_5 (Conv2D)              (None, 7, 7, 128)    2359424     ['resnet50[1][0]']               \n",
            "                                                                                                  \n",
            " input_4 (InputLayer)           [(None, 2)]          0           []                               \n",
            "                                                                                                  \n",
            " dropout_3 (Dropout)            (None, 7, 7, 128)    0           ['conv2d_5[0][0]']               \n",
            "                                                                                                  \n",
            " dense (Dense)                  (None, 128)          384         ['input_4[0][0]']                \n",
            "                                                                                                  \n",
            " batch_normalization_3 (BatchNo  (None, 7, 7, 128)   512         ['dropout_3[0][0]']              \n",
            " rmalization)                                                                                     \n",
            "                                                                                                  \n",
            " dropout_4 (Dropout)            (None, 128)          0           ['dense[0][0]']                  \n",
            "                                                                                                  \n",
            " global_average_pooling2d (Glob  (None, 128)         0           ['batch_normalization_3[0][0]']  \n",
            " alAveragePooling2D)                                                                              \n",
            "                                                                                                  \n",
            " batch_normalization_4 (BatchNo  (None, 128)         512         ['dropout_4[0][0]']              \n",
            " rmalization)                                                                                     \n",
            "                                                                                                  \n",
            " concatenate (Concatenate)      (None, 256)          0           ['global_average_pooling2d[0][0]'\n",
            "                                                                 , 'batch_normalization_4[0][0]'] \n",
            "                                                                                                  \n",
            " dense_1 (Dense)                (None, 2)            514         ['concatenate[0][0]']            \n",
            "                                                                                                  \n",
            "==================================================================================================\n",
            "Total params: 25,950,549\n",
            "Trainable params: 2,362,293\n",
            "Non-trainable params: 23,588,256\n",
            "__________________________________________________________________________________________________\n"
          ]
        }
      ]
    },
    {
      "cell_type": "code",
      "source": [
        "from tensorflow.keras.utils import plot_model\n",
        "plot_model(model)"
      ],
      "metadata": {
        "id": "RaNzMTDYxUpe"
      },
      "execution_count": null,
      "outputs": []
    },
    {
      "cell_type": "code",
      "source": [
        "model.compile(optimizer='adam',loss = 'sparse_categorical_crossentropy',metrics=['accuracy'])"
      ],
      "metadata": {
        "id": "GVfKM_sc-aEz"
      },
      "execution_count": null,
      "outputs": []
    },
    {
      "cell_type": "code",
      "source": [
        "history = model.fit(train_generator,validation_data = valid_generator, epochs=100,verbose=1,callbacks=callbacks)"
      ],
      "metadata": {
        "colab": {
          "base_uri": "https://localhost:8080/",
          "height": 335
        },
        "id": "IV7hLPnp-elo",
        "outputId": "bf34843c-bd84-47f9-db0e-3a6d1b8287db"
      },
      "execution_count": null,
      "outputs": [
        {
          "output_type": "display_data",
          "data": {
            "image/png": "[encoded data removed]",
            "text/plain": [
              "<Figure size 432x288 with 1 Axes>"
            ]
          },
          "metadata": {
            "needs_background": "light"
          }
        },
        {
          "output_type": "stream",
          "name": "stdout",
          "text": [
            "loss =  0.4035031795501709 , val_loss =  0.9442345499992371\n",
            "\b\b\b\b\b\b\b\b\b\b\b\b\b\b\b\b\b\b\b\b\b\b\b\b\b\b\b\b\b\b\b\b\b\b\b\b\b\b\b\b\b\b\b\b\b\b\b\b\b\b\b\b\b\b\b\b\b\b\b\b\b\b\b\b\b\b\b\b\b\b\b\b\b\b\b\b\b\b\b\b\b\b\r10/10 [==============================] - 55s 6s/step - loss: 0.4035 - accuracy: 0.8313 - val_loss: 0.9442 - val_accuracy: 0.6000 - lr: 1.6000e-06\n",
            "Epoch 51/100\n",
            " 6/10 [=================>............] - ETA: 17s - loss: 0.3969 - accuracy: 0.8333"
          ]
        }
      ]
    }
  ],
  "metadata": {
    "accelerator": "GPU",
    "colab": {
      "background_execution": "on",
      "collapsed_sections": [
        "DMTH6bms-jsN"
      ],
      "name": "2d_model.ipynb",
      "provenance": [],
      "include_colab_link": true
    },
    "kernelspec": {
      "display_name": "Python 3",
      "name": "python3"
    },
    "language_info": {
      "name": "python"
    }
  },
  "nbformat": 4,
  "nbformat_minor": 0
}